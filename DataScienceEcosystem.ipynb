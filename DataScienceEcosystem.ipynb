{
 "cells": [
  {
   "cell_type": "markdown",
   "id": "bfee7d27-dcbe-49ee-8336-b25d419b0d31",
   "metadata": {},
   "source": [
    "# Data Science Tools and Ecosystem"
   ]
  },
  {
   "cell_type": "markdown",
   "id": "3c5e2225-9db5-4fc8-bec5-e5a1ee409b00",
   "metadata": {},
   "source": [
    "In this notebook, Data Science Tools and Ecosystem are summarized."
   ]
  },
  {
   "cell_type": "markdown",
   "id": "6e53da50-d684-4bcd-88bd-05e8adb3ead6",
   "metadata": {},
   "source": [
    "**Objectives:**\n",
    "- List popular languages for Data Science\n",
    "- Demonstrate basic arithmetic operations in Python\n",
    "- Introduce commonly used Data Science libraries\n",
    "- Showcase tools for Data Science environments\n",
    "- Convert units of time from minutes to hours"
   ]
  },
  {
   "cell_type": "markdown",
   "id": "46038a10-3135-493b-a096-8b23690758d1",
   "metadata": {},
   "source": [
    "Some of the popular languages that Data Scientists use are:\r\n",
    "\r\n",
    "1. Python\r\n",
    "2. R\r\n",
    "3. SQL\r\n",
    "4. Scala\r\n"
   ]
  },
  {
   "cell_type": "markdown",
   "id": "70cc92c3-e303-40b0-add6-8517a8dec6d6",
   "metadata": {},
   "source": [
    "Some of the commonly used libraries used by Data Scientists include:\r\n",
    "\r\n",
    "1. Pandas\r\n",
    "2. NumPy\r\n",
    "3. Matplotlib\r\n",
    "4. Scikit-learn\r\n",
    "5. TensorFlow\r\n"
   ]
  },
  {
   "cell_type": "markdown",
   "id": "57dc0b28-e16d-4a92-9bfa-a72f5507751f",
   "metadata": {},
   "source": [
    "\n",
    "<table>\n",
    "    <tr>\n",
    "        <th>Data Science Tools</th>\n",
    "    </tr>\n",
    "    <tr>\n",
    "        <td>Jupyter Notebook</td>\n",
    "    </tr>\n",
    "    <tr>\n",
    "        <td>RStudio</td>\n",
    "    </tr>\n",
    "    <tr>\n",
    "        <td>VS Code</td>\n",
    "    </tr>\n",
    "</table>\n"
   ]
  },
  {
   "cell_type": "markdown",
   "id": "8ab7e614-a5e0-4319-9567-f5ad28bce9c3",
   "metadata": {},
   "source": [
    "### Below are a few examples of evaluating arithmetic expressions in Python\n",
    "\n",
    "1. Addition: `1 + 1 = 2`\n",
    "2. Subtraction: `5 - 2 = 3`\n",
    "3. Multiplication: `3 * 4 = 12`\n",
    "4. Division: `8 / 2 = 4`\n",
    "5. Exponentiation: `2 ** 3 = 8`\n",
    "6. Modulus: `10 % 3 = 1`"
   ]
  },
  {
   "cell_type": "code",
   "execution_count": 3,
   "id": "aeb0c3e1-8d2a-4ed2-9807-81cc183e9e6b",
   "metadata": {},
   "outputs": [
    {
     "data": {
      "text/plain": [
       "17"
      ]
     },
     "execution_count": 3,
     "metadata": {},
     "output_type": "execute_result"
    }
   ],
   "source": [
    "# This a simple arithmetic expression to mutiply then add integers\n",
    "(3*4) + 5"
   ]
  },
  {
   "cell_type": "code",
   "execution_count": 7,
   "id": "fa62cc45-e4eb-44bf-98af-659ed2890342",
   "metadata": {},
   "outputs": [
    {
     "data": {
      "text/plain": [
       "3.3333333333333335"
      ]
     },
     "execution_count": 7,
     "metadata": {},
     "output_type": "execute_result"
    }
   ],
   "source": [
    "# This will convert 200 minutes to hours by dividing by 60\n",
    "minutes = 200\n",
    "hours = minutes / 60\n",
    "hours"
   ]
  },
  {
   "cell_type": "markdown",
   "id": "185d5a88-f699-4607-9299-f029ce11aee8",
   "metadata": {},
   "source": [
    "## Author\n",
    "Kevin KUELA"
   ]
  },
  {
   "cell_type": "code",
   "execution_count": null,
   "id": "7b1c27c5-302f-4ecd-8897-7270b24e67d6",
   "metadata": {},
   "outputs": [],
   "source": []
  }
 ],
 "metadata": {
  "kernelspec": {
   "display_name": "Python 3 (ipykernel)",
   "language": "python",
   "name": "python3"
  },
  "language_info": {
   "codemirror_mode": {
    "name": "ipython",
    "version": 3
   },
   "file_extension": ".py",
   "mimetype": "text/x-python",
   "name": "python",
   "nbconvert_exporter": "python",
   "pygments_lexer": "ipython3",
   "version": "3.11.9"
  }
 },
 "nbformat": 4,
 "nbformat_minor": 5
}
